{
 "cells": [
  {
   "cell_type": "code",
   "execution_count": 2,
   "id": "242cffe6",
   "metadata": {},
   "outputs": [
    {
     "name": "stdout",
     "output_type": "stream",
     "text": [
      "Thirty Days Of Python\n"
     ]
    }
   ],
   "source": [
    "\n",
    "\"\"\"\n",
    "Concatenate the string ‘Thirty’, ‘Days’, ‘Of’, ‘Python’ to a single string, ‘Thirty Days Of Python’.\n",
    "\"\"\"\n",
    "grind = 'Thirty' + ' ' + 'Days' + ' ' + 'Of' + ' ' + 'Python'\n",
    "\n",
    "print(grind)"
   ]
  },
  {
   "cell_type": "code",
   "execution_count": 4,
   "id": "d3fb8deb",
   "metadata": {},
   "outputs": [
    {
     "name": "stdout",
     "output_type": "stream",
     "text": [
      "Coding For All\n",
      "Thirty Days Of Python\n"
     ]
    }
   ],
   "source": [
    "#Concatenate the string ‘Coding’, ‘For’ , ‘All’ to a single string, ‘Coding For All’.\n",
    "\n",
    "coding = 'Coding' + ' ' + 'For' + ' ' + 'All'\n",
    "\n",
    "print(coding)\n",
    "print(grind)"
   ]
  },
  {
   "cell_type": "code",
   "execution_count": 7,
   "id": "bae6c235",
   "metadata": {},
   "outputs": [
    {
     "name": "stdout",
     "output_type": "stream",
     "text": [
      "Coding For All\n",
      "14\n",
      "CODING FOR ALL\n",
      "coding for all\n",
      "Coding for all\n",
      "Coding For All\n",
      "cODING fOR aLL\n",
      "Coding\n",
      "0\n",
      "Python For All\n",
      "Python for All\n",
      "['Coding', 'For', 'All']\n"
     ]
    }
   ],
   "source": [
    "'''\n",
    "Declare a variable named company and assign it to an initial value “Coding For All”.\n",
    "Print the variable company using print().\n",
    "Print the length of the company string using len() method and print().\n",
    "Change all the characters to uppercase letters using upper() method.\n",
    "Change all the characters to lowercase letters using lower() method.\n",
    "Use capitalize(), title(), swapcase() methods to format the value of the string Coding For All.\n",
    "Cut(slice) out the first word of Coding For All string.\n",
    "Check if Coding For All string contains a word Coding using the method index, find or other methods.\n",
    "Replace the word coding in the string ‘Coding For All’ to Python.\n",
    "Change Python for Everyone to Python for All using the replace method or other methods.\n",
    "Split the string ‘Coding For All’ using space as the separator (split()).\n",
    "'''\n",
    "\n",
    "company = \"Coding For All\"\n",
    "print(company)\n",
    "print(len(company))\n",
    "print(company.upper())\n",
    "print(company.lower())\n",
    "print(company.capitalize())\n",
    "print(company.title())\n",
    "print(company.swapcase())\n",
    "print(company[0:6])\n",
    "print(company.index('Coding'))\n",
    "print(company.replace('Coding', 'Python'))\n",
    "print(\"Python for Everyone\".replace('Everyone', 'All'))\n",
    "print(company.split(' '))"
   ]
  },
  {
   "cell_type": "code",
   "execution_count": 11,
   "id": "884b8c7f",
   "metadata": {},
   "outputs": [
    {
     "name": "stdout",
     "output_type": "stream",
     "text": [
      "['Facebook', 'Google', 'Microsoft', 'Apple', 'IBM', 'Oracle', 'Amazon']\n",
      "13\n",
      " \n"
     ]
    }
   ],
   "source": [
    "'''\n",
    "“Facebook, Google, Microsoft, Apple, IBM, Oracle, Amazon” split the string at the comma.\n",
    "What is the character at index 0 in the string Coding For All.\n",
    "What is the last index of the string Coding For All.\n",
    "What character is at index 10 in “Coding For All” string.\n",
    "'''\n",
    "bigTech = \"Facebook, Google, Microsoft, Apple, IBM, Oracle, Amazon\"\n",
    "print(bigTech.split(', '))\n",
    "print(len(company)-1)  \n",
    "print(company[10])"
   ]
  },
  {
   "cell_type": "code",
   "execution_count": null,
   "id": "9c42d6ae",
   "metadata": {},
   "outputs": [
    {
     "name": "stdout",
     "output_type": "stream",
     "text": [
      "PFE\n",
      "CFA\n"
     ]
    }
   ],
   "source": [
    "'''\n",
    "Create an acronym or an abbreviation for the name ‘Python For Everyone’.\n",
    "Create an acronym or an abbreviation for the name ‘Coding For All’\n",
    "'''\n",
    "PFE = 'Python For Everyone'\n",
    "CFA = 'Coding For All'\n",
    "\n",
    "print(PFE[0] + PFE[7] + PFE[11])\n",
    "print(CFA[0] + CFA[7] + CFA[11])"
   ]
  },
  {
   "cell_type": "code",
   "execution_count": null,
   "id": "e6088099",
   "metadata": {},
   "outputs": [],
   "source": [
    "'''\n",
    "Use index to determine the position of the first occurrence of C in Coding For All.\n",
    "Use index to determine the position of the first occurrence of F in Coding For All.\n",
    "Use rfind to determine the position of the last occurrence of l in Coding For All People.\n",
    "'''\n",
    "\n",
    "print(company.index('C'))\n",
    "print(company.index('F'))   \n",
    "print(\"Coding For All People\".rfind('l'))"
   ]
  },
  {
   "cell_type": "code",
   "execution_count": 3,
   "id": "fd988632",
   "metadata": {},
   "outputs": [
    {
     "name": "stdout",
     "output_type": "stream",
     "text": [
      "31\n",
      "47\n"
     ]
    }
   ],
   "source": [
    "'''\n",
    "Use index or find to find the position of the first occurrence of the word ‘because’ in the following\n",
    "sentence: ‘You cannot end a sentence with because because because is a conjunction’\n",
    "'''\n",
    "sentence = 'You cannot end a sentence with because because because is a conjunction'\n",
    "print(sentence.index('because'))\n",
    "\n",
    "'''\n",
    "Use rindex to find the position of the last occurrence of the word because in the following sentence: ‘You\n",
    "cannot end a sentence with because because because is a conjunction’\n",
    "'''\n",
    "print(sentence.rindex('because'))\n"
   ]
  },
  {
   "cell_type": "code",
   "execution_count": 5,
   "id": "993185c6",
   "metadata": {},
   "outputs": [
    {
     "name": "stdout",
     "output_type": "stream",
     "text": [
      "because because because\n",
      "31\n"
     ]
    }
   ],
   "source": [
    "'''\n",
    "Slice out the phrase ‘because because because’ in the following sentence: ‘You cannot end a sentence with\n",
    "because because because is a conjunction’\n",
    "'''\n",
    "print(sentence[31:54])\n",
    "\n",
    "'''\n",
    "Find the position of the first occurrence of the word ‘because’ in the following sentence: ‘You cannot end a\n",
    "sentence with because because because is a conjunction’\n",
    "'''\n",
    "print(sentence.find('because'))\n"
   ]
  },
  {
   "cell_type": "code",
   "execution_count": 9,
   "id": "dbca2207",
   "metadata": {},
   "outputs": [
    {
     "name": "stdout",
     "output_type": "stream",
     "text": [
      "True\n",
      "False\n",
      "Coding For All\n"
     ]
    }
   ],
   "source": [
    "'''\n",
    "Does ‘\\'Coding For All’ start with a substring Coding?\n",
    "Does ‘Coding For All’ end with a substring coding?\n",
    "'''\n",
    "\n",
    "print(company.startswith('Coding'))\n",
    "print(company.endswith('coding'))\n",
    "\n",
    "#‘ Coding For All ’ , remove the left and right trailing spaces in the given string.\n",
    "\n",
    "print(company.strip())"
   ]
  },
  {
   "cell_type": "code",
   "execution_count": 10,
   "id": "e3073287",
   "metadata": {},
   "outputs": [
    {
     "name": "stdout",
     "output_type": "stream",
     "text": [
      "False\n",
      "True\n"
     ]
    }
   ],
   "source": [
    "'''\n",
    "Which one of the following variables return True when we use the method isidentifier(): \n",
    "30DaysOfPython\n",
    "thirty_days_of_python\n",
    "'''\n",
    "print('30DaysOfPython'.isidentifier())\n",
    "print('thirty_days_of_python'.isidentifier())"
   ]
  },
  {
   "cell_type": "code",
   "execution_count": null,
   "id": "33d4b563",
   "metadata": {},
   "outputs": [],
   "source": [
    "'''\n",
    "The following list contains the names of some of python libraries: [‘Django’, ‘Flask’, ‘Bottle’, ‘Pyramid’,\n",
    "‘Falcon’]. Join the list with a hash with space string.\n",
    "'''\n"
   ]
  },
  {
   "cell_type": "code",
   "execution_count": null,
   "id": "f03dc9dd",
   "metadata": {},
   "outputs": [],
   "source": [
    "\"\"\"\"\n",
    "💻 Exercises - Day 4 \n",
    "\n",
    "Use the new line escape sequence to separate the following sentences. py I am enjoying this challenge. I\n",
    "just wonder what is next. \n",
    "Use a tab escape sequence to write the following lines. py Name Age Country City Asabeneh 250 Finland\n",
    "Helsinki \n",
    "Use the string formatting method to display the following: \n",
    "radius = 10\n",
    "area = 3.14 * radius ** 2\n",
    "The area of a circle with radius 10 is 314 meters square.\n",
    " Make the following using string formatting methods: \n",
    "8 + 6 = 14\n",
    "8 - 6 = 2\n",
    "8 * 6 = 48\n",
    "8 / 6 = 1.33\n",
    "8 % 6 = 2\n",
    "8 // 6 = 1\n",
    "8 ** 6 = 262144\n",
    "\n",
    "🎉 CONGRATULATIONS ! 🎉 \n",
    "\"\"\""
   ]
  },
  {
   "cell_type": "markdown",
   "id": "812021f5",
   "metadata": {},
   "source": []
  }
 ],
 "metadata": {
  "kernelspec": {
   "display_name": "Python 3",
   "language": "python",
   "name": "python3"
  },
  "language_info": {
   "codemirror_mode": {
    "name": "ipython",
    "version": 3
   },
   "file_extension": ".py",
   "mimetype": "text/x-python",
   "name": "python",
   "nbconvert_exporter": "python",
   "pygments_lexer": "ipython3",
   "version": "3.12.1"
  }
 },
 "nbformat": 4,
 "nbformat_minor": 5
}
